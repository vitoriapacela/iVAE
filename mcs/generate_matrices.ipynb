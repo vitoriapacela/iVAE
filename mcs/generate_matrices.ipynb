{
 "cells": [
  {
   "cell_type": "code",
   "execution_count": 1,
   "id": "ad9beb60-2051-49b8-bc7b-e74b5d66a35c",
   "metadata": {},
   "outputs": [],
   "source": [
    "import os\n",
    "import sys\n",
    "import numpy as np\n",
    "import torch\n",
    "torch.set_default_dtype(torch.double)\n",
    "from itertools import permutations\n",
    "sys.path.insert(0, os.path.abspath(os.path.join(os.path.dirname('__file__'), '../')))\n",
    "# from metrics import get_mcc_np, get_mcc_pt, max_perm_mcs_col\n",
    "from metrics import mean_corr_coef as mcc\n",
    "import pandas as pd"
   ]
  },
  {
   "cell_type": "code",
   "execution_count": 2,
   "id": "1113e528-900a-4fc0-97ec-dc4a90cb4b98",
   "metadata": {},
   "outputs": [],
   "source": [
    "for d in range(2,10):\n",
    "    A1 = np.random.randn(d, d)\n",
    "    df = pd.DataFrame(A1)\n",
    "    df.to_csv('A1_'+str(d)+'_'+str(d)+'.csv')\n",
    "\n",
    "    A2 = np.random.randn(d, d)\n",
    "    df = pd.DataFrame(A2)\n",
    "    df.to_csv('A2_'+str(d)+'_'+str(d)+'.csv')\n",
    "\n",
    "    score = mcc(A1, A2, method='cos')\n",
    "    s = pd.Series(score)\n",
    "    s.to_csv('mcs_'+str(d)+'_'+str(d)+'.csv', index=False)"
   ]
  },
  {
   "cell_type": "code",
   "execution_count": 3,
   "id": "af008134-166d-4b34-aef6-2a1b89d235a9",
   "metadata": {},
   "outputs": [],
   "source": [
    "for d in range(2,6):\n",
    "    A1 = np.random.randn(6, d)\n",
    "    df = pd.DataFrame(A1)\n",
    "    df.to_csv('A1_'+str(6)+'_'+str(d)+'.csv')\n",
    "\n",
    "    A2 = np.random.randn(6, d)\n",
    "    df = pd.DataFrame(A2)\n",
    "    df.to_csv('A2_'+str(6)+'_'+str(d)+'.csv')\n",
    "\n",
    "#     score = max_perm_mcs_col(A1, A2)\n",
    "    score = mcc(A1, A2, method='cos')\n",
    "    s = pd.Series(score)\n",
    "    s.to_csv('mcs_'+str(6)+'_'+str(d)+'.csv', index=False)"
   ]
  },
  {
   "cell_type": "code",
   "execution_count": null,
   "id": "2f33b338-ba15-418e-a931-dd46ad09cab7",
   "metadata": {},
   "outputs": [],
   "source": []
  }
 ],
 "metadata": {
  "kernelspec": {
   "display_name": "Python 3 (ipykernel)",
   "language": "python",
   "name": "python3"
  },
  "language_info": {
   "codemirror_mode": {
    "name": "ipython",
    "version": 3
   },
   "file_extension": ".py",
   "mimetype": "text/x-python",
   "name": "python",
   "nbconvert_exporter": "python",
   "pygments_lexer": "ipython3",
   "version": "3.9.7"
  }
 },
 "nbformat": 4,
 "nbformat_minor": 5
}
